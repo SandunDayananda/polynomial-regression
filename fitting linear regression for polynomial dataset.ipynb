import numpy as np
import matplotlib.pyplot as plt
from sklearn.linear_model import LinearRegression

# Generate random data for the independent variable
np.random.seed(0)
X = np.random.rand(30) * 10

# Generate the dependent variable (target) using the equation
y = 2 + 3*X - 0.5*X**2 + np.random.randn(30) * 2

# Reshape the independent variable
X = X.reshape(-1, 1)

# Fit the linear regression model
model = LinearRegression()
model.fit(X, y)

# Generate the x values for plotting the regression line
x_vals = np.linspace(X.min(), X.max(), 100).reshape(-1, 1)
y_pred = model.predict(x_vals)

# Plot the data points
plt.scatter(X, y, color='blue', label='Data Points')

# Plot the regression line
plt.plot(x_vals, y_pred, color='red', label='Regression Line')

# Set the axis labels and title
plt.xlabel('Independent Variable')
plt.ylabel('Dependent Variable')
plt.title('Linear Regression')

# Set the legend
plt.legend()

# Display the plot
plt.show()
